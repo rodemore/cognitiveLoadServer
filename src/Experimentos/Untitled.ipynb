{
 "cells": [
  {
   "cell_type": "code",
   "execution_count": 1,
   "metadata": {},
   "outputs": [],
   "source": [
    "import json\n",
    "import pandas as pd\n",
    "import matplotlib.pyplot as plt"
   ]
  },
  {
   "cell_type": "code",
   "execution_count": 91,
   "metadata": {},
   "outputs": [],
   "source": [
    "tasks = open(\"Piloto_Eunice/numerico_dificil.json\", \"r\") "
   ]
  },
  {
   "cell_type": "code",
   "execution_count": 92,
   "metadata": {},
   "outputs": [],
   "source": [
    "json_tasks = tasks.read()\n",
    "tasks_data = json.loads(json_tasks)"
   ]
  },
  {
   "cell_type": "code",
   "execution_count": 22,
   "metadata": {},
   "outputs": [],
   "source": []
  },
  {
   "cell_type": "code",
   "execution_count": 93,
   "metadata": {},
   "outputs": [],
   "source": [
    "data = tasks_data.copy()\n",
    "del data[\"start_time\"]\n",
    "del data[\"stop\"]\n",
    "del data[\"next\"]"
   ]
  },
  {
   "cell_type": "code",
   "execution_count": 94,
   "metadata": {},
   "outputs": [],
   "source": [
    "df = pd.DataFrame(data)"
   ]
  },
  {
   "cell_type": "code",
   "execution_count": 95,
   "metadata": {},
   "outputs": [
    {
     "data": {
      "text/html": [
       "<div>\n",
       "<style scoped>\n",
       "    .dataframe tbody tr th:only-of-type {\n",
       "        vertical-align: middle;\n",
       "    }\n",
       "\n",
       "    .dataframe tbody tr th {\n",
       "        vertical-align: top;\n",
       "    }\n",
       "\n",
       "    .dataframe thead th {\n",
       "        text-align: right;\n",
       "    }\n",
       "</style>\n",
       "<table border=\"1\" class=\"dataframe\">\n",
       "  <thead>\n",
       "    <tr style=\"text-align: right;\">\n",
       "      <th></th>\n",
       "      <th>posX</th>\n",
       "      <th>posY</th>\n",
       "      <th>pressure</th>\n",
       "      <th>movementX</th>\n",
       "      <th>movementY</th>\n",
       "      <th>time</th>\n",
       "    </tr>\n",
       "  </thead>\n",
       "  <tbody>\n",
       "    <tr>\n",
       "      <th>0</th>\n",
       "      <td>252.259262</td>\n",
       "      <td>1165.111084</td>\n",
       "      <td>1</td>\n",
       "      <td>0</td>\n",
       "      <td>0</td>\n",
       "      <td>887.2</td>\n",
       "    </tr>\n",
       "    <tr>\n",
       "      <th>1</th>\n",
       "      <td>246.814819</td>\n",
       "      <td>1156.944458</td>\n",
       "      <td>1</td>\n",
       "      <td>-6</td>\n",
       "      <td>-9</td>\n",
       "      <td>931.6</td>\n",
       "    </tr>\n",
       "    <tr>\n",
       "      <th>2</th>\n",
       "      <td>236.833344</td>\n",
       "      <td>1139.703735</td>\n",
       "      <td>1</td>\n",
       "      <td>-11</td>\n",
       "      <td>-19</td>\n",
       "      <td>941.4</td>\n",
       "    </tr>\n",
       "    <tr>\n",
       "      <th>3</th>\n",
       "      <td>215.962952</td>\n",
       "      <td>1091.611084</td>\n",
       "      <td>1</td>\n",
       "      <td>-23</td>\n",
       "      <td>-53</td>\n",
       "      <td>956.4</td>\n",
       "    </tr>\n",
       "    <tr>\n",
       "      <th>4</th>\n",
       "      <td>211.425949</td>\n",
       "      <td>1051.685181</td>\n",
       "      <td>1</td>\n",
       "      <td>-5</td>\n",
       "      <td>-44</td>\n",
       "      <td>973.3</td>\n",
       "    </tr>\n",
       "  </tbody>\n",
       "</table>\n",
       "</div>"
      ],
      "text/plain": [
       "         posX         posY  pressure  movementX  movementY   time\n",
       "0  252.259262  1165.111084         1          0          0  887.2\n",
       "1  246.814819  1156.944458         1         -6         -9  931.6\n",
       "2  236.833344  1139.703735         1        -11        -19  941.4\n",
       "3  215.962952  1091.611084         1        -23        -53  956.4\n",
       "4  211.425949  1051.685181         1         -5        -44  973.3"
      ]
     },
     "execution_count": 95,
     "metadata": {},
     "output_type": "execute_result"
    }
   ],
   "source": [
    "df.head()"
   ]
  },
  {
   "cell_type": "code",
   "execution_count": 96,
   "metadata": {},
   "outputs": [],
   "source": [
    "def cut_time(i):\n",
    "    if i.left <0:\n",
    "        return 0 \n",
    "    return i.left\n",
    "    \n",
    "def complete_position(L):\n",
    "    new_L = []\n",
    "    for i in range(0,len(L)):\n",
    "        j = i\n",
    "        while(L[j]==0): \n",
    "            j=j-1        \n",
    "        new_L.append(L[j])\n",
    "    return new_L \n",
    "\n",
    "def calc_mov(L):\n",
    "    new_L = [0]\n",
    "    for i in range(1,len(L)):\n",
    "        new_L.append(L[i]-L[i-1])\n",
    "    return new_L \n",
    "    "
   ]
  },
  {
   "cell_type": "code",
   "execution_count": 97,
   "metadata": {},
   "outputs": [],
   "source": [
    "x = df.copy()\n",
    "x[\"time_label\"] = pd.cut(x.time, range(0,1000*120+1, 30),include_lowest=True).apply(cut_time)\n",
    "x = x[[\"posX\",\"posY\",\"time_label\",\"pressure\"]].groupby(\"time_label\", as_index=False).mean()\n",
    "x[\"posX2\"] = complete_position(x.posX)\n",
    "x[\"posY2\"] = complete_position(x.posY)\n",
    "\n",
    "x[\"movX\"] = calc_mov(x.posX2)\n",
    "x[\"movY\"] = calc_mov(x.posY2)\n",
    "x[\"distance\"] = x.apply(lambda r: ((r.movX)**2 + (r.movY)**2)**(1/2), axis=1)\n",
    "x[\"speed\"] = x[\"distance\"]/30"
   ]
  },
  {
   "cell_type": "code",
   "execution_count": 98,
   "metadata": {},
   "outputs": [
    {
     "data": {
      "text/plain": [
       "1.8044687271941329"
      ]
     },
     "execution_count": 98,
     "metadata": {},
     "output_type": "execute_result"
    }
   ],
   "source": [
    "x.speed.fillna(0).mean()"
   ]
  },
  {
   "cell_type": "markdown",
   "metadata": {},
   "source": [
    "x: 0.9217042557089462"
   ]
  },
  {
   "cell_type": "code",
   "execution_count": 1,
   "metadata": {},
   "outputs": [
    {
     "ename": "NameError",
     "evalue": "name 'x' is not defined",
     "output_type": "error",
     "traceback": [
      "\u001b[0;31m---------------------------------------------------------------------------\u001b[0m",
      "\u001b[0;31mNameError\u001b[0m                                 Traceback (most recent call last)",
      "\u001b[0;32m<ipython-input-1-eb6f5f13eca4>\u001b[0m in \u001b[0;36m<module>\u001b[0;34m\u001b[0m\n\u001b[0;32m----> 1\u001b[0;31m \u001b[0mx\u001b[0m\u001b[0;34m.\u001b[0m\u001b[0mspeed\u001b[0m\u001b[0;34m.\u001b[0m\u001b[0mfillna\u001b[0m\u001b[0;34m(\u001b[0m\u001b[0;36m0\u001b[0m\u001b[0;34m)\u001b[0m\u001b[0;34m.\u001b[0m\u001b[0mmean\u001b[0m\u001b[0;34m(\u001b[0m\u001b[0;34m)\u001b[0m\u001b[0;34m\u001b[0m\u001b[0;34m\u001b[0m\u001b[0m\n\u001b[0m",
      "\u001b[0;31mNameError\u001b[0m: name 'x' is not defined"
     ]
    }
   ],
   "source": [
    "x.speed.fillna(0).mean()"
   ]
  },
  {
   "cell_type": "code",
   "execution_count": null,
   "metadata": {},
   "outputs": [],
   "source": [
    "x = df.copy()\n",
    "x[\"time_label\"] = pd.cut(x.time, range(0,1000*120+1, 30),include_lowest=True).apply(cut_time)\n",
    "x = x[[\"posX\",\"posY\",\"time_label\",\"pressure\"]].groupby(\"time_label\", as_index=False).mean()\n",
    "x[\"posX2\"] = complete_position(x.posX)\n",
    "x[\"posY2\"] = complete_position(x.posY)\n",
    "\n",
    "x[\"movX\"] = calc_mov(x.posX2)\n",
    "x[\"movY\"] = calc_mov(x.posY2)\n",
    "x[\"distance\"] = x.apply(lambda r: ((r.movX)**2 + (r.movY)**2)**(1/2), axis=1)\n",
    "x[\"speed\"] = x[\"distance\"]/30"
   ]
  },
  {
   "cell_type": "code",
   "execution_count": null,
   "metadata": {},
   "outputs": [],
   "source": []
  },
  {
   "cell_type": "code",
   "execution_count": null,
   "metadata": {},
   "outputs": [],
   "source": []
  },
  {
   "cell_type": "code",
   "execution_count": 53,
   "metadata": {},
   "outputs": [
    {
     "data": {
      "text/plain": [
       "0         1500.0\n",
       "1         1590.0\n",
       "2         1590.0\n",
       "3         1620.0\n",
       "4         1650.0\n",
       "5         1650.0\n",
       "6         1680.0\n",
       "7         1680.0\n",
       "8         1710.0\n",
       "9         1710.0\n",
       "10        1740.0\n",
       "11        1740.0\n",
       "12        1770.0\n",
       "13        1800.0\n",
       "14        1800.0\n",
       "15        1830.0\n",
       "16        1830.0\n",
       "17        1860.0\n",
       "18        1860.0\n",
       "19        1890.0\n",
       "20        1920.0\n",
       "21        1920.0\n",
       "22        1950.0\n",
       "23        1950.0\n",
       "24        1980.0\n",
       "25        1980.0\n",
       "26        2010.0\n",
       "27        2010.0\n",
       "28        2040.0\n",
       "29        2040.0\n",
       "          ...   \n",
       "4631    118920.0\n",
       "4632    118950.0\n",
       "4633    118980.0\n",
       "4634    119040.0\n",
       "4635    119070.0\n",
       "4636    119100.0\n",
       "4637    119130.0\n",
       "4638    119160.0\n",
       "4639    119190.0\n",
       "4640    119220.0\n",
       "4641    119250.0\n",
       "4642    119280.0\n",
       "4643    119340.0\n",
       "4644    119370.0\n",
       "4645    119400.0\n",
       "4646    119430.0\n",
       "4647    119460.0\n",
       "4648    119490.0\n",
       "4649    119520.0\n",
       "4650    119550.0\n",
       "4651    119610.0\n",
       "4652    119670.0\n",
       "4653    119700.0\n",
       "4654    119760.0\n",
       "4655    119820.0\n",
       "4656    119850.0\n",
       "4657    119880.0\n",
       "4658    119910.0\n",
       "4659    119940.0\n",
       "4660    119970.0\n",
       "Name: time, Length: 4661, dtype: category\n",
       "Categories (4000, float64): [0.0 < 30.0 < 60.0 < 90.0 ... 119880.0 < 119910.0 < 119940.0 < 119970.0]"
      ]
     },
     "execution_count": 53,
     "metadata": {},
     "output_type": "execute_result"
    }
   ],
   "source": [
    "pd.cut(df.time, range(0,1000*120+1, 30),include_lowest=True).apply(cut_time)"
   ]
  },
  {
   "cell_type": "markdown",
   "metadata": {},
   "source": [
    "Graficamos todos los puntos obtenidos en una prueba para verificar que se logran captar las figuras que realiza el usuario sobre la pizarra."
   ]
  },
  {
   "cell_type": "code",
   "execution_count": 36,
   "metadata": {},
   "outputs": [
    {
     "data": {
      "image/png": "[encoded data removed]",
      "text/plain": [
       "<Figure size 432x648 with 1 Axes>"
      ]
     },
     "metadata": {
      "needs_background": "light"
     },
     "output_type": "display_data"
    }
   ],
   "source": [
    "plt.figure(figsize=(6,9))\n",
    "\n",
    "for i in range(len(df.posX )):\n",
    "    posX = df.loc[i,\"posX\"]\n",
    "    posY = df.loc[i,\"posY\"]*-1\n",
    "    \n",
    "    plt.plot(posX, posY, \"o\", c=\"b\", markersize=7, alpha=0.5)\n",
    "plt.xlim([0,1100])\n",
    "plt.ylim([-1800,0])\n",
    "plt.savefig(\"movimiento_recuperado.jpg\")"
   ]
  },
  {
   "cell_type": "code",
   "execution_count": null,
   "metadata": {},
   "outputs": [],
   "source": [
    "tasks_Df = pd.DataFrame(tasks_data)"
   ]
  },
  {
   "cell_type": "code",
   "execution_count": 25,
   "metadata": {},
   "outputs": [
    {
     "data": {
      "text/html": [
       "<div>\n",
       "<style scoped>\n",
       "    .dataframe tbody tr th:only-of-type {\n",
       "        vertical-align: middle;\n",
       "    }\n",
       "\n",
       "    .dataframe tbody tr th {\n",
       "        vertical-align: top;\n",
       "    }\n",
       "\n",
       "    .dataframe thead th {\n",
       "        text-align: right;\n",
       "    }\n",
       "</style>\n",
       "<table border=\"1\" class=\"dataframe\">\n",
       "  <thead>\n",
       "    <tr style=\"text-align: right;\">\n",
       "      <th></th>\n",
       "      <th>respuesta</th>\n",
       "      <th>dificultad</th>\n",
       "    </tr>\n",
       "  </thead>\n",
       "  <tbody>\n",
       "    <tr>\n",
       "      <th>0</th>\n",
       "      <td>3373</td>\n",
       "      <td>Easy</td>\n",
       "    </tr>\n",
       "    <tr>\n",
       "      <th>1</th>\n",
       "      <td>5952</td>\n",
       "      <td>Easy</td>\n",
       "    </tr>\n",
       "    <tr>\n",
       "      <th>2</th>\n",
       "      <td>6977</td>\n",
       "      <td>Easy</td>\n",
       "    </tr>\n",
       "    <tr>\n",
       "      <th>3</th>\n",
       "      <td>12304</td>\n",
       "      <td>Easy</td>\n",
       "    </tr>\n",
       "    <tr>\n",
       "      <th>4</th>\n",
       "      <td>13696</td>\n",
       "      <td>Easy</td>\n",
       "    </tr>\n",
       "    <tr>\n",
       "      <th>5</th>\n",
       "      <td>15243</td>\n",
       "      <td>Easy</td>\n",
       "    </tr>\n",
       "    <tr>\n",
       "      <th>6</th>\n",
       "      <td>16714</td>\n",
       "      <td>Easy</td>\n",
       "    </tr>\n",
       "    <tr>\n",
       "      <th>7</th>\n",
       "      <td>17911</td>\n",
       "      <td>Easy</td>\n",
       "    </tr>\n",
       "    <tr>\n",
       "      <th>8</th>\n",
       "      <td>19039</td>\n",
       "      <td>Easy</td>\n",
       "    </tr>\n",
       "    <tr>\n",
       "      <th>9</th>\n",
       "      <td>20055</td>\n",
       "      <td>Easy</td>\n",
       "    </tr>\n",
       "    <tr>\n",
       "      <th>10</th>\n",
       "      <td>21147</td>\n",
       "      <td>Easy</td>\n",
       "    </tr>\n",
       "    <tr>\n",
       "      <th>11</th>\n",
       "      <td>22167</td>\n",
       "      <td>Easy</td>\n",
       "    </tr>\n",
       "    <tr>\n",
       "      <th>12</th>\n",
       "      <td>23197</td>\n",
       "      <td>Easy</td>\n",
       "    </tr>\n",
       "    <tr>\n",
       "      <th>13</th>\n",
       "      <td>24370</td>\n",
       "      <td>Easy</td>\n",
       "    </tr>\n",
       "    <tr>\n",
       "      <th>14</th>\n",
       "      <td>25511</td>\n",
       "      <td>Easy</td>\n",
       "    </tr>\n",
       "    <tr>\n",
       "      <th>15</th>\n",
       "      <td>26595</td>\n",
       "      <td>Easy</td>\n",
       "    </tr>\n",
       "    <tr>\n",
       "      <th>16</th>\n",
       "      <td>27633</td>\n",
       "      <td>Easy</td>\n",
       "    </tr>\n",
       "    <tr>\n",
       "      <th>17</th>\n",
       "      <td>28714</td>\n",
       "      <td>Easy</td>\n",
       "    </tr>\n",
       "    <tr>\n",
       "      <th>18</th>\n",
       "      <td>29993</td>\n",
       "      <td>Easy</td>\n",
       "    </tr>\n",
       "    <tr>\n",
       "      <th>19</th>\n",
       "      <td>31331</td>\n",
       "      <td>Easy</td>\n",
       "    </tr>\n",
       "    <tr>\n",
       "      <th>20</th>\n",
       "      <td>32513</td>\n",
       "      <td>Easy</td>\n",
       "    </tr>\n",
       "    <tr>\n",
       "      <th>21</th>\n",
       "      <td>33668</td>\n",
       "      <td>Easy</td>\n",
       "    </tr>\n",
       "    <tr>\n",
       "      <th>22</th>\n",
       "      <td>34773</td>\n",
       "      <td>Easy</td>\n",
       "    </tr>\n",
       "    <tr>\n",
       "      <th>23</th>\n",
       "      <td>35897</td>\n",
       "      <td>Easy</td>\n",
       "    </tr>\n",
       "    <tr>\n",
       "      <th>24</th>\n",
       "      <td>37081</td>\n",
       "      <td>Easy</td>\n",
       "    </tr>\n",
       "    <tr>\n",
       "      <th>25</th>\n",
       "      <td>39506</td>\n",
       "      <td>Easy</td>\n",
       "    </tr>\n",
       "    <tr>\n",
       "      <th>26</th>\n",
       "      <td>42023</td>\n",
       "      <td>Easy</td>\n",
       "    </tr>\n",
       "    <tr>\n",
       "      <th>27</th>\n",
       "      <td>50081</td>\n",
       "      <td>Easy</td>\n",
       "    </tr>\n",
       "    <tr>\n",
       "      <th>28</th>\n",
       "      <td>52299</td>\n",
       "      <td>Easy</td>\n",
       "    </tr>\n",
       "    <tr>\n",
       "      <th>29</th>\n",
       "      <td>56090</td>\n",
       "      <td>Easy</td>\n",
       "    </tr>\n",
       "  </tbody>\n",
       "</table>\n",
       "</div>"
      ],
      "text/plain": [
       "    respuesta dificultad\n",
       "0        3373       Easy\n",
       "1        5952       Easy\n",
       "2        6977       Easy\n",
       "3       12304       Easy\n",
       "4       13696       Easy\n",
       "5       15243       Easy\n",
       "6       16714       Easy\n",
       "7       17911       Easy\n",
       "8       19039       Easy\n",
       "9       20055       Easy\n",
       "10      21147       Easy\n",
       "11      22167       Easy\n",
       "12      23197       Easy\n",
       "13      24370       Easy\n",
       "14      25511       Easy\n",
       "15      26595       Easy\n",
       "16      27633       Easy\n",
       "17      28714       Easy\n",
       "18      29993       Easy\n",
       "19      31331       Easy\n",
       "20      32513       Easy\n",
       "21      33668       Easy\n",
       "22      34773       Easy\n",
       "23      35897       Easy\n",
       "24      37081       Easy\n",
       "25      39506       Easy\n",
       "26      42023       Easy\n",
       "27      50081       Easy\n",
       "28      52299       Easy\n",
       "29      56090       Easy"
      ]
     },
     "execution_count": 25,
     "metadata": {},
     "output_type": "execute_result"
    }
   ],
   "source": [
    "tasks_Df"
   ]
  }
 ],
 "metadata": {
  "kernelspec": {
   "display_name": "Python 3",
   "language": "python",
   "name": "python3"
  },
  "language_info": {
   "codemirror_mode": {
    "name": "ipython",
    "version": 3
   },
   "file_extension": ".py",
   "mimetype": "text/x-python",
   "name": "python",
   "nbconvert_exporter": "python",
   "pygments_lexer": "ipython3",
   "version": "3.7.3"
  }
 },
 "nbformat": 4,
 "nbformat_minor": 2
}
